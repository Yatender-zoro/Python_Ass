{
 "cells": [
  {
   "cell_type": "markdown",
   "id": "7c55df9a-057a-4e24-8902-36327b30d519",
   "metadata": {},
   "source": [
    "## Q1  \tWrite a Python program to find the second largest number in a list without using the sort() method. "
   ]
  },
  {
   "cell_type": "code",
   "execution_count": 1,
   "id": "7b643097-7923-4592-8f83-071dbb63e13f",
   "metadata": {},
   "outputs": [
    {
     "name": "stdin",
     "output_type": "stream",
     "text": [
      " 1 2 3\n"
     ]
    },
    {
     "name": "stdout",
     "output_type": "stream",
     "text": [
      "2\n"
     ]
    }
   ],
   "source": [
    "\n",
    "n = input()\n",
    "l =list(map(int,n.split()))\n",
    "max1  = float('-inf')\n",
    "max2 = float('-inf')\n",
    "for i in l:\n",
    "    if i>max1:\n",
    "        max2 = max1\n",
    "        max1 = i\n",
    "    elif i<max1 and i>max2:\n",
    "        max2 = i\n",
    "print(max2)\n",
    "        "
   ]
  },
  {
   "cell_type": "markdown",
   "id": "0af74cb9-2684-4949-9f7d-561a90a5fae8",
   "metadata": {},
   "source": [
    "## Q2 Remove duplicates from a list without using set() and return it in sorted order. "
   ]
  },
  {
   "cell_type": "code",
   "execution_count": 2,
   "id": "056a491d-e15e-4e9a-9616-e5bca207ee6f",
   "metadata": {
    "jp-MarkdownHeadingCollapsed": true
   },
   "outputs": [
    {
     "name": "stdin",
     "output_type": "stream",
     "text": [
      " 1 2 3 4\n"
     ]
    },
    {
     "name": "stdout",
     "output_type": "stream",
     "text": [
      "[1, 2, 3, 4]\n"
     ]
    }
   ],
   "source": [
    "\n",
    "n = input()\n",
    "l =list(map(int,n.split()))\n",
    "l.sort()\n",
    "i=0\n",
    "while(i<len(l)-1):\n",
    "    if l[i] == l[i+1]:\n",
    "        del l[i+1]\n",
    "    else:\n",
    "        i+=1\n",
    "print(l)"
   ]
  },
  {
   "cell_type": "markdown",
   "id": "5efa00b1-e277-4bbc-9f99-8c4114edd22a",
   "metadata": {},
   "source": [
    "## Q3 Find the sum and average of a list of numbers"
   ]
  },
  {
   "cell_type": "code",
   "execution_count": 3,
   "id": "ef6717cb-f941-48a0-b1c0-1e1e1b851b79",
   "metadata": {},
   "outputs": [
    {
     "name": "stdin",
     "output_type": "stream",
     "text": [
      " 3 4 3 1\n"
     ]
    },
    {
     "name": "stdout",
     "output_type": "stream",
     "text": [
      "sum is: 11\n",
      "average is: 2.75\n"
     ]
    }
   ],
   "source": [
    "n = input()\n",
    "l = list(map(int,n.split()))\n",
    "sum = 0\n",
    "average = 0\n",
    "for i in l:\n",
    "    sum=sum+i\n",
    "print(\"sum is:\",sum)\n",
    "average = sum/len(l)\n",
    "print(\"average is:\",average)"
   ]
  },
  {
   "cell_type": "markdown",
   "id": "da12fd8d-aca8-44e0-8767-e83cc0fa8e1b",
   "metadata": {},
   "source": [
    "## Q4 Create a program to check if a number is prime. "
   ]
  },
  {
   "cell_type": "code",
   "execution_count": 4,
   "id": "8ad14ad0-1d2e-4dae-99bf-e33fb0c490df",
   "metadata": {},
   "outputs": [
    {
     "name": "stdin",
     "output_type": "stream",
     "text": [
      " 5\n"
     ]
    }
   ],
   "source": [
    "n = int(input())\n",
    "if n<=1:\n",
    "    print(\"Not Prime\")\n",
    "else:\n",
    "    for i in range(2,n//2):\n",
    "        if n%i==0:\n",
    "            print(\"Not Prime\")\n",
    "            break\n",
    "        else:\n",
    "            print(\"Prime\")"
   ]
  },
  {
   "cell_type": "markdown",
   "id": "fd6580eb-5584-485f-8902-95afb0c6f499",
   "metadata": {},
   "source": [
    "## Q5 Count the number of vowels, consonants, digits, and special characters in a given string."
   ]
  },
  {
   "cell_type": "code",
   "execution_count": 6,
   "id": "31896919-8c89-4a0e-a171-9f3dea75cb9f",
   "metadata": {},
   "outputs": [
    {
     "name": "stdin",
     "output_type": "stream",
     "text": [
      " uygusf786879+-++\n"
     ]
    },
    {
     "name": "stdout",
     "output_type": "stream",
     "text": [
      "Vowels are 2\n",
      "Consonants are 4\n",
      "Digits are 6\n",
      "Special characters are 4\n"
     ]
    }
   ],
   "source": [
    "n = input()\n",
    "v = 0\n",
    "c = 0\n",
    "d = 0\n",
    "sc = 0\n",
    "for i in n:\n",
    "    if i in {'a','e','i','o','u'}:\n",
    "        v = v+1\n",
    "    elif i in {'b','c','d','f','g','h','j','k','l','m','n','p','q','r','s','t','v','w','x','y','z'}:\n",
    "        c = c+1\n",
    "    elif i in {'0','1','2','3','4','5','6','7','8','9'}:\n",
    "        d = d+1\n",
    "    else:\n",
    "        sc = sc + 1\n",
    "print(\"Vowels are\",v)\n",
    "print(\"Consonants are\",c)\n",
    "print(\"Digits are\",d)\n",
    "print(\"Special characters are\",sc)"
   ]
  },
  {
   "cell_type": "markdown",
   "id": "5e4f59d8-b384-49d7-b9ea-e08b507751da",
   "metadata": {},
   "source": [
    "## Q6 \tPrint all even numbers between 1 and 100 using a for loop."
   ]
  },
  {
   "cell_type": "code",
   "execution_count": 8,
   "id": "08a6f664-f5b8-4cf7-91f7-653d2aa1cb1a",
   "metadata": {},
   "outputs": [
    {
     "name": "stdout",
     "output_type": "stream",
     "text": [
      "2 4 6 8 10 12 14 16 18 20 22 24 26 28 30 32 34 36 38 40 42 44 46 48 50 52 54 56 58 60 62 64 66 68 70 72 74 76 78 80 82 84 86 88 90 92 94 96 98 100\n"
     ]
    }
   ],
   "source": [
    "enum = [i for i in range(1,101) if i%2==0]\n",
    "print(*enum)"
   ]
  },
  {
   "cell_type": "markdown",
   "id": "329353e7-9221-450a-a6e3-62c39bc19a4a",
   "metadata": {},
   "source": [
    "## Q7\tWrite a program to print the multiplication table of a number entered by the user. "
   ]
  },
  {
   "cell_type": "code",
   "execution_count": 10,
   "id": "329e7814-31e2-49cf-b589-94415632ac60",
   "metadata": {},
   "outputs": [
    {
     "name": "stdin",
     "output_type": "stream",
     "text": [
      " 5\n"
     ]
    },
    {
     "name": "stdout",
     "output_type": "stream",
     "text": [
      "5 10 15 20 25 30 35 40 45 50\n"
     ]
    }
   ],
   "source": [
    "n = int(input())\n",
    "table = [n*i for i in range(1,11) ]\n",
    "print(*table)"
   ]
  },
  {
   "cell_type": "markdown",
   "id": "2354aeca-ec07-4b84-bd6b-84eef9eae061",
   "metadata": {},
   "source": [
    "## Q8  Create a list of numbers from 1 to 100 that are divisible by both 3 and 5."
   ]
  },
  {
   "cell_type": "code",
   "execution_count": 12,
   "id": "6f76aa53-2599-4a04-9018-19bd00aa91c5",
   "metadata": {},
   "outputs": [
    {
     "name": "stdout",
     "output_type": "stream",
     "text": [
      "15 30 45 60 75 90\n"
     ]
    }
   ],
   "source": [
    "num = [i for i in range(1,101) if i%3==0 and i%5==0]\n",
    "print(*num)"
   ]
  },
  {
   "cell_type": "markdown",
   "id": "8832c1dd-d715-4801-b2d3-0067590166c7",
   "metadata": {},
   "source": [
    "## Q9\tTake a number input and print its reverse. "
   ]
  },
  {
   "cell_type": "code",
   "execution_count": 15,
   "id": "1c6002e1-94c3-49af-bdfa-86f4d17ebff6",
   "metadata": {},
   "outputs": [
    {
     "name": "stdin",
     "output_type": "stream",
     "text": [
      " 65\n"
     ]
    },
    {
     "name": "stdout",
     "output_type": "stream",
     "text": [
      "56\n"
     ]
    }
   ],
   "source": [
    "n = int(input())\n",
    "num = 0\n",
    "rem = 0\n",
    "while(n>0):\n",
    "    rem = n%10\n",
    "    num = num*10 +rem\n",
    "    n = n//10\n",
    "print(num)"
   ]
  },
  {
   "cell_type": "markdown",
   "id": "30f3f623-c2a2-4b74-84d5-f99360a00919",
   "metadata": {},
   "source": [
    "## Q10\tCount the frequency of each character in a string and store it in a dictionary. "
   ]
  },
  {
   "cell_type": "code",
   "execution_count": 16,
   "id": "39e4355d-580b-4632-90ba-97652401abc0",
   "metadata": {},
   "outputs": [
    {
     "name": "stdin",
     "output_type": "stream",
     "text": [
      " aabbbhbhddf\n"
     ]
    },
    {
     "name": "stdout",
     "output_type": "stream",
     "text": [
      "{'a': 2, 'b': 4, 'h': 2, 'd': 2, 'f': 1}\n"
     ]
    }
   ],
   "source": [
    "n = input()\n",
    "dict = {}\n",
    "for i in n:\n",
    "    if i in dict:\n",
    "        dict[i] = dict[i] +1\n",
    "    else :\n",
    "        dict[i] = 1\n",
    "print(dict)"
   ]
  },
  {
   "cell_type": "markdown",
   "id": "8aeec25b-66e2-4d45-b381-6475729f688c",
   "metadata": {},
   "source": [
    "## Q11\tWrite a Python program to generate the first n prime numbers"
   ]
  },
  {
   "cell_type": "code",
   "execution_count": 13,
   "id": "04de6fd4-96a7-44f4-9f57-b53f4b2afad8",
   "metadata": {},
   "outputs": [
    {
     "name": "stdin",
     "output_type": "stream",
     "text": [
      " 98\n"
     ]
    },
    {
     "name": "stdout",
     "output_type": "stream",
     "text": [
      "2\n",
      "3\n",
      "5\n",
      "7\n",
      "11\n",
      "13\n",
      "17\n",
      "19\n",
      "23\n",
      "29\n",
      "31\n",
      "37\n",
      "41\n",
      "43\n",
      "47\n",
      "53\n",
      "59\n",
      "61\n",
      "67\n",
      "71\n",
      "73\n",
      "79\n",
      "83\n",
      "89\n",
      "97\n"
     ]
    }
   ],
   "source": [
    "n = int(input())\n",
    "for i in range(2,n+1):\n",
    "    isp = True\n",
    "    for j in range(2,i//2+1):\n",
    "        if i%j==0:\n",
    "            isp = False\n",
    "            break\n",
    "    if isp :\n",
    "        print(i)"
   ]
  },
  {
   "cell_type": "markdown",
   "id": "60248d3f-66ff-468c-97d0-61a6556143e2",
   "metadata": {},
   "source": [
    "## Q12\tCheck whether a number is a palindrome or not. "
   ]
  },
  {
   "cell_type": "code",
   "execution_count": 2,
   "id": "8222bd21-e957-44ea-ace0-dcb5330a7d8c",
   "metadata": {},
   "outputs": [
    {
     "name": "stdin",
     "output_type": "stream",
     "text": [
      " 123\n"
     ]
    },
    {
     "name": "stdout",
     "output_type": "stream",
     "text": [
      "Not Palindrome\n"
     ]
    }
   ],
   "source": [
    "n = int(input())\n",
    "rev = 0\n",
    "rem = 0\n",
    "c = n\n",
    "while(c>0):\n",
    "    rem = c%10\n",
    "    rev = rev*10 + rem\n",
    "    c = c//10\n",
    "if n == rev:\n",
    "    print(\"Palindrome\")\n",
    "else:\n",
    "    print(\"Not Palindrome\")"
   ]
  },
  {
   "cell_type": "markdown",
   "id": "c163a29b-8d0c-4c8c-a612-9b20d4afc09b",
   "metadata": {},
   "source": [
    "## Q13\tCount how many times a specific element appears in a list"
   ]
  },
  {
   "cell_type": "code",
   "execution_count": 4,
   "id": "0578fb7b-4c53-4ea4-802e-44e51ca89da0",
   "metadata": {},
   "outputs": [
    {
     "name": "stdin",
     "output_type": "stream",
     "text": [
      " 5\n",
      " 1 2 4 5 3 5 4 3 5 4 3 6 5\n"
     ]
    },
    {
     "name": "stdout",
     "output_type": "stream",
     "text": [
      "5 comes 4 times\n"
     ]
    }
   ],
   "source": [
    "n = int(input())\n",
    "a = input()\n",
    "l = list(map(int,a.split()))\n",
    "c = 0\n",
    "for i in l:\n",
    "    if i == n:\n",
    "        c = c+1\n",
    "print(n,\"comes\",c,\"times\")"
   ]
  },
  {
   "cell_type": "markdown",
   "id": "cf1433bb-b62a-4589-ac19-2392aee46285",
   "metadata": {},
   "source": [
    "## Q14\tCreate a list of squares of even numbers between 1 and 50"
   ]
  },
  {
   "cell_type": "code",
   "execution_count": 6,
   "id": "b185e7fb-26cc-4834-884f-bb97f95c7818",
   "metadata": {},
   "outputs": [
    {
     "name": "stdout",
     "output_type": "stream",
     "text": [
      "4 16 36\n"
     ]
    }
   ],
   "source": [
    "num = [i**2 for i in range(1,51) if i%2==0 and i**2<50]\n",
    "print(*num)"
   ]
  },
  {
   "cell_type": "markdown",
   "id": "535b4cba-8f82-46a3-a346-3ef5e783de1b",
   "metadata": {},
   "source": [
    "## Q15\tAccept a list and return a new list with only unique elements (preserve order). "
   ]
  },
  {
   "cell_type": "code",
   "execution_count": 11,
   "id": "c2d23c58-a0ca-4dda-9bc8-b24808dea89f",
   "metadata": {},
   "outputs": [
    {
     "name": "stdin",
     "output_type": "stream",
     "text": [
      " 1 1 2 1 4 5 3 2 8 6 7 7 9 6 3 \n"
     ]
    },
    {
     "name": "stdout",
     "output_type": "stream",
     "text": [
      "[1, 2, 4, 5, 3, 8, 6, 7, 9]\n"
     ]
    }
   ],
   "source": [
    "a = input()\n",
    "l = list(map(int,a.split()))\n",
    "def ulist(l):\n",
    "    i = 0\n",
    "    while i < len(l):\n",
    "        j = i + 1\n",
    "        while j < len(l):\n",
    "            if l[i] == l[j]:\n",
    "                del l[j]\n",
    "            else:\n",
    "                j += 1\n",
    "        i += 1\n",
    "ulist(l)\n",
    "print(l)"
   ]
  },
  {
   "cell_type": "markdown",
   "id": "8b5de413-bb09-4d87-8d0d-c6a846952240",
   "metadata": {},
   "source": [
    "## Q16\ta function to check if a number is even or odd. "
   ]
  },
  {
   "cell_type": "code",
   "execution_count": 15,
   "id": "e408a41c-6ac9-4cd8-ad40-35214a61cf97",
   "metadata": {},
   "outputs": [
    {
     "name": "stdin",
     "output_type": "stream",
     "text": [
      " 5\n"
     ]
    },
    {
     "name": "stdout",
     "output_type": "stream",
     "text": [
      "Odd\n"
     ]
    }
   ],
   "source": [
    "n = int(input())\n",
    "def isevodd(n):\n",
    "    if n%2==0:\n",
    "        print(\"Even\")\n",
    "    else :\n",
    "        print(\"Odd\")\n",
    "isevodd(n)\n"
   ]
  },
  {
   "cell_type": "markdown",
   "id": "dfad5e4e-8e1a-4ab0-8b6e-c9f88428982e",
   "metadata": {},
   "source": [
    "## Q17\tCreate a function that takes a list of numbers and returns their cumulative sum. "
   ]
  },
  {
   "cell_type": "code",
   "execution_count": 20,
   "id": "1f6940fe-0cfd-4480-a7af-94302a4b17f4",
   "metadata": {},
   "outputs": [
    {
     "name": "stdin",
     "output_type": "stream",
     "text": [
      " 1 2 3 4\n"
     ]
    },
    {
     "name": "stdout",
     "output_type": "stream",
     "text": [
      "10\n"
     ]
    }
   ],
   "source": [
    "n = input()\n",
    "l = list(map(int,n.split()))\n",
    "sum = 0\n",
    "def s(l,sum):\n",
    "    for i in l:\n",
    "        sum = sum + i\n",
    "    return sum\n",
    "print(s(l,0))"
   ]
  },
  {
   "cell_type": "markdown",
   "id": "d82e72b1-ef78-494a-a75b-df45c1b3639b",
   "metadata": {},
   "source": [
    "## Q18 Write a recursive function to find the factorial of a number. "
   ]
  },
  {
   "cell_type": "code",
   "execution_count": 22,
   "id": "50884675-7b65-4172-9ba7-de579d8f87e6",
   "metadata": {},
   "outputs": [
    {
     "name": "stdin",
     "output_type": "stream",
     "text": [
      " 5\n"
     ]
    },
    {
     "name": "stdout",
     "output_type": "stream",
     "text": [
      "120\n"
     ]
    }
   ],
   "source": [
    "n = int(input())\n",
    "def fact(n):\n",
    "    if n == 0 or n==1:\n",
    "        return 1\n",
    "    return fact(n-1)*n\n",
    "print(fact(n))\n",
    "    "
   ]
  },
  {
   "cell_type": "markdown",
   "id": "ebd1c419-5404-4c45-8d5c-18fdb63def82",
   "metadata": {},
   "source": [
    "## Q19\tWrite a function to print the Fibonacci series up to n terms"
   ]
  },
  {
   "cell_type": "code",
   "execution_count": 31,
   "id": "046f999e-8e00-44f7-a345-b459773a5143",
   "metadata": {},
   "outputs": [
    {
     "name": "stdin",
     "output_type": "stream",
     "text": [
      " 5\n"
     ]
    },
    {
     "name": "stdout",
     "output_type": "stream",
     "text": [
      "1 1 2 3 5 "
     ]
    }
   ],
   "source": [
    "n = int(input())\n",
    "def fib(n):\n",
    "    if n ==1 or n==2:\n",
    "          return 1\n",
    "    else:\n",
    "        return fib(n-1) + fib(n-2)\n",
    "for i in range(1, n + 1):\n",
    "    print(fib(i), end=' ')\n"
   ]
  },
  {
   "cell_type": "markdown",
   "id": "1fd3316e-09c3-4503-9852-e7193fbabd64",
   "metadata": {},
   "source": [
    "## Q20\tDefine a function that checks if a given string is a palindrome."
   ]
  },
  {
   "cell_type": "code",
   "execution_count": 36,
   "id": "71a622d2-1678-47f2-844c-f6ddb134e42b",
   "metadata": {},
   "outputs": [
    {
     "name": "stdin",
     "output_type": "stream",
     "text": [
      " selifjs\n"
     ]
    },
    {
     "name": "stdout",
     "output_type": "stream",
     "text": [
      "Not Palindrome\n"
     ]
    }
   ],
   "source": [
    "def pal(s,rev):\n",
    "    if s == rev:\n",
    "        print(\"Palindrome\")\n",
    "    else :\n",
    "        print(\"Not Palindrome\")\n",
    "s = input()\n",
    "rev = s[::-1]\n",
    "pal(s,rev)"
   ]
  },
  {
   "cell_type": "markdown",
   "id": "763ffa2c-46bd-4e3b-96e0-5ef91fd1c16b",
   "metadata": {},
   "source": [
    "## Q21\tCreate a function that returns the maximum and minimum elements from a list. "
   ]
  },
  {
   "cell_type": "code",
   "execution_count": 4,
   "id": "004771bc-bfcf-4435-90f0-933baadad339",
   "metadata": {},
   "outputs": [
    {
     "name": "stdin",
     "output_type": "stream",
     "text": [
      " 1 2 3 21 3 5 3 35 5\n"
     ]
    },
    {
     "name": "stdout",
     "output_type": "stream",
     "text": [
      "max is  35\n",
      "min is  1\n"
     ]
    }
   ],
   "source": [
    "def maxmin(cmax,cmin,l):\n",
    "    for i in l:\n",
    "        if i>cmax:\n",
    "            cmax = i\n",
    "        if i<cmin:\n",
    "            cmin = i\n",
    "    return [cmax,cmin]\n",
    "    \n",
    "s = input()\n",
    "l = list(map(int,s.split()))\n",
    "\n",
    "cmax = float(\"-inf\")\n",
    "cmin = float(\"inf\")\n",
    "\n",
    "cmax,cmin = maxmin(cmax,cmin,l)\n",
    "\n",
    "print(\"max is \",cmax)\n",
    "print(\"min is \",cmin)"
   ]
  },
  {
   "cell_type": "markdown",
   "id": "cab2223e-e2d6-45f6-89be-d771830ea2ab",
   "metadata": {},
   "source": [
    "## Q22\tWrite a function to check whether a string is a pangram"
   ]
  },
  {
   "cell_type": "code",
   "execution_count": 10,
   "id": "6b2e06ba-3d57-4411-a192-05975453d003",
   "metadata": {},
   "outputs": [
    {
     "name": "stdin",
     "output_type": "stream",
     "text": [
      " `1234567890-qwertyuiopasdfghjklzxcvbnm,\n"
     ]
    },
    {
     "name": "stdout",
     "output_type": "stream",
     "text": [
      "String is pangram\n"
     ]
    }
   ],
   "source": [
    "def pangram(s):\n",
    "    l = []\n",
    "    for i in s.lower():\n",
    "        if i.isalpha():\n",
    "            if i not in l:\n",
    "                l.append(i)\n",
    "    if len(l) == 26:\n",
    "        print(\"String is pangram\")\n",
    "    else :\n",
    "        print(\"String is not pangram\")\n",
    "\n",
    "\n",
    "s = input()\n",
    "pangram(s)"
   ]
  },
  {
   "cell_type": "markdown",
   "id": "2003f94c-c7ea-47c1-80ec-98591934111d",
   "metadata": {},
   "source": [
    "## Q23 Create a function that finds and returns all prime numbers in a given range"
   ]
  },
  {
   "cell_type": "code",
   "execution_count": 12,
   "id": "5585001f-b97b-4c37-8850-af061a45dad5",
   "metadata": {},
   "outputs": [
    {
     "name": "stdin",
     "output_type": "stream",
     "text": [
      "give range like 2 20 2 20\n"
     ]
    },
    {
     "name": "stdout",
     "output_type": "stream",
     "text": [
      "2\n",
      "3\n",
      "5\n",
      "7\n",
      "11\n",
      "13\n",
      "17\n",
      "19\n"
     ]
    }
   ],
   "source": [
    "def prime(l):\n",
    "    for i in range(l[0],l[1]+1):\n",
    "        isp = True\n",
    "        for j in range(2,i//2+1):\n",
    "            if i%j==0:\n",
    "                isp = False\n",
    "                break\n",
    "        if isp :\n",
    "            print(i)\n",
    "s = input(\"give range like 2 20\")\n",
    "l = list(map(int,s.split()))\n",
    "prime(l)"
   ]
  },
  {
   "cell_type": "markdown",
   "id": "37f5f905-43d1-48f1-a6b4-93a78f1be349",
   "metadata": {},
   "source": [
    "## Q24\tWrite a function to return the number of uppercase and lowercase letters in a string. "
   ]
  },
  {
   "cell_type": "code",
   "execution_count": 15,
   "id": "2a06f0fe-803a-4209-9f8e-cdc05e53ad65",
   "metadata": {},
   "outputs": [
    {
     "name": "stdin",
     "output_type": "stream",
     "text": [
      " qwdaQWQS\n"
     ]
    },
    {
     "name": "stdout",
     "output_type": "stream",
     "text": [
      "upper case letters are 4\n",
      "Lower case letters are 4\n"
     ]
    }
   ],
   "source": [
    "def upp_Low(s,low,upp):\n",
    "    for i in s:\n",
    "        if i.islower():\n",
    "            low = low + 1\n",
    "        if i.isupper():\n",
    "            upp = upp +1\n",
    "    return [upp,low]\n",
    "s = input()\n",
    "upp = 0\n",
    "low = 0\n",
    "low,upp = upp_Low(s,upp,low)\n",
    "print(\"upper case letters are\",upp)\n",
    "print(\"Lower case letters are\",low)"
   ]
  },
  {
   "cell_type": "markdown",
   "id": "40700be7-f79a-40f7-a45a-3ec413fc9382",
   "metadata": {},
   "source": [
    "## Q25\tWrite a function to compute the sum of digits of a number. "
   ]
  },
  {
   "cell_type": "code",
   "execution_count": 19,
   "id": "1d945723-e08f-4ba3-bd8b-9a65ea040f91",
   "metadata": {},
   "outputs": [
    {
     "name": "stdin",
     "output_type": "stream",
     "text": [
      " 12\n"
     ]
    },
    {
     "name": "stdout",
     "output_type": "stream",
     "text": [
      "sum of digits of 12 is 3\n"
     ]
    }
   ],
   "source": [
    "def dsum(a):\n",
    "    sum = 0\n",
    "    while(a>0):\n",
    "        rem = a%10\n",
    "        a = a//10\n",
    "        sum = sum + rem\n",
    "    return sum\n",
    "\n",
    "n = int(input())\n",
    "print(\"sum of digits of\",n,\"is\",dsum(n))"
   ]
  },
  {
   "cell_type": "markdown",
   "id": "7d9a9a6d-864d-4b70-ba2f-adf80f2a6c94",
   "metadata": {},
   "source": [
    "## Q26 Write a function to count words in a sentence. "
   ]
  },
  {
   "cell_type": "code",
   "execution_count": 20,
   "id": "874a16af-52c8-4a12-8942-637a28c87758",
   "metadata": {},
   "outputs": [
    {
     "name": "stdin",
     "output_type": "stream",
     "text": [
      " w wwewf wefw wef ccsd ghfhy\n"
     ]
    },
    {
     "name": "stdout",
     "output_type": "stream",
     "text": [
      "words in sentence w wwewf wefw wef ccsd ghfhy is 6\n"
     ]
    }
   ],
   "source": [
    "def words(a):\n",
    "    l = a.split()\n",
    "    w = len(l)\n",
    "    return w\n",
    "\n",
    "s = input()\n",
    "print('words in sentence',s,'is',words(s))"
   ]
  },
  {
   "cell_type": "markdown",
   "id": "e33980b7-41c4-498d-b16d-78f5bfd07bac",
   "metadata": {},
   "source": [
    "## Q27\tCreate a function to remove all punctuation from a string. "
   ]
  },
  {
   "cell_type": "code",
   "execution_count": 22,
   "id": "87b00fab-1f4d-4d06-afd3-442c122b9daf",
   "metadata": {},
   "outputs": [
    {
     "name": "stdin",
     "output_type": "stream",
     "text": [
      " BYb? jknu. bkju, nuce;sckrn\n"
     ]
    },
    {
     "name": "stdout",
     "output_type": "stream",
     "text": [
      "BYb jknu bkju nucesckrn\n"
     ]
    }
   ],
   "source": [
    "import string\n",
    "\n",
    "def remove_punctuation(text):\n",
    "    return ''.join([char for char in text if char not in string.punctuation])\n",
    "\n",
    "text = input()\n",
    "print(remove_punctuation(text))\n"
   ]
  },
  {
   "cell_type": "markdown",
   "id": "fe25f8d1-a8a5-4648-a41c-8adb8d2d2501",
   "metadata": {},
   "source": [
    "## Q28.\tCreate a function that finds the GCD (greatest common divisor) of two numbers"
   ]
  },
  {
   "cell_type": "code",
   "execution_count": null,
   "id": "176a32c0-2fd6-48e0-bb45-de6e3e089d16",
   "metadata": {},
   "outputs": [],
   "source": [
    "def gcd(a, b):\n",
    "    while b != 0:\n",
    "        a, b = b, a % b\n",
    "    return a\n",
    "a = int(input())\n",
    "b = int(input())\n",
    "print(gcd(a,b))"
   ]
  },
  {
   "cell_type": "markdown",
   "id": "15a82d8b-888b-4498-9e2b-4ba7ef497561",
   "metadata": {},
   "source": [
    "## Q29.\tWrite a function that takes a list and returns only those elements that appear more than once. "
   ]
  },
  {
   "cell_type": "code",
   "execution_count": 27,
   "id": "fdf3b8c8-ddd2-41ee-ac8d-fa6203ccccb2",
   "metadata": {},
   "outputs": [
    {
     "name": "stdin",
     "output_type": "stream",
     "text": [
      " 1 2 3 1 2 3 4 5 6 3 6 7 6 8 9 0\n"
     ]
    },
    {
     "name": "stdout",
     "output_type": "stream",
     "text": [
      "[2, 3, 1, 4, 5, 6, 7, 8, 9]\n"
     ]
    }
   ],
   "source": [
    "def dup(l):\n",
    "    a = []\n",
    "    for i in range (1,len(l)-1):\n",
    "        for j in range(i,len(l)):\n",
    "            if l[i] == l[j]:\n",
    "                if l[i] not in a:\n",
    "                    a.append(l[i])\n",
    "    return a\n",
    "\n",
    "s = input()\n",
    "l = list(map(int,s.split()))\n",
    "print(dup(l))"
   ]
  },
  {
   "cell_type": "markdown",
   "id": "5460a311-176f-4464-b5c3-e1044ef58d44",
   "metadata": {},
   "source": [
    "## Q30.\tCreate a function to return the largest of three numbers"
   ]
  },
  {
   "cell_type": "code",
   "execution_count": 35,
   "id": "b69d946e-8131-438d-a751-817fd700b585",
   "metadata": {},
   "outputs": [
    {
     "name": "stdin",
     "output_type": "stream",
     "text": [
      " 2\n",
      " 3\n",
      " 4\n"
     ]
    },
    {
     "name": "stdout",
     "output_type": "stream",
     "text": [
      "4\n"
     ]
    }
   ],
   "source": [
    "def lar(a,b,c):\n",
    "    m = 0\n",
    "    m = a\n",
    "    m = max(m,b)\n",
    "    m = max(m,c)\n",
    "    return m\n",
    "\n",
    "a = int(input())\n",
    "b = int(input())\n",
    "c = int(input())\n",
    "print(lar(a,b,c))"
   ]
  },
  {
   "cell_type": "markdown",
   "id": "28b55e29-af2c-4888-b56c-c65f523e9634",
   "metadata": {},
   "source": [
    "## Q31.\ta program to sort words in a sentence alphabetically"
   ]
  },
  {
   "cell_type": "code",
   "execution_count": 36,
   "id": "de8aff9d-ecfe-4783-b66a-8fda3a8df293",
   "metadata": {},
   "outputs": [
    {
     "name": "stdin",
     "output_type": "stream",
     "text": [
      "Enter a sentence:  The quick Brown fox jumps over the lazy Dog\n"
     ]
    },
    {
     "name": "stdout",
     "output_type": "stream",
     "text": [
      "Sorted sentence: Brown Dog fox jumps lazy over quick The the\n"
     ]
    }
   ],
   "source": [
    "def sort_sentence(sentence):\n",
    "    words = sentence.split()          \n",
    "    words.sort(key=str.lower)        \n",
    "    return ' '.join(words) \n",
    "    \n",
    "s = input(\"Enter a sentence: \")\n",
    "\n",
    "sorted_sentence = sort_sentence(s)\n",
    "print(\"Sorted sentence:\", sorted_sentence)"
   ]
  },
  {
   "cell_type": "markdown",
   "id": "4320d28e-b1eb-43ec-b25c-8a321a0ad656",
   "metadata": {},
   "source": [
    "## Q32.\tConcatenate two dictionaries and print the result. \n"
   ]
  },
  {
   "cell_type": "code",
   "execution_count": 37,
   "id": "71d9006b-c1db-45e8-b6ee-4dac7e6ab71f",
   "metadata": {},
   "outputs": [
    {
     "name": "stdout",
     "output_type": "stream",
     "text": [
      "{'a': 1, 'b': 2, 'c': 3, 'd': 4}\n"
     ]
    }
   ],
   "source": [
    "dict1 = {'a': 1, 'b': 2}\n",
    "dict2 = {'c': 3, 'd': 4}\n",
    "\n",
    "result = dict1 | dict2\n",
    "print(result)"
   ]
  },
  {
   "cell_type": "markdown",
   "id": "e9c8cf93-ef2c-48fb-b73e-b932b4966e14",
   "metadata": {},
   "source": [
    "## Q33.\tCount how many vowels are present in each word of a sentence. \n"
   ]
  },
  {
   "cell_type": "code",
   "execution_count": 38,
   "id": "0c8c46b6-a07e-4b54-ac76-5c177b48e9fd",
   "metadata": {},
   "outputs": [
    {
     "name": "stdin",
     "output_type": "stream",
     "text": [
      "Enter a sentence:  ygfw kwuhgk\n"
     ]
    },
    {
     "name": "stdout",
     "output_type": "stream",
     "text": [
      "ygfw 0\n",
      "kwuhgk 1\n"
     ]
    }
   ],
   "source": [
    "vowels = \"aeiouAEIOU\"\n",
    "s = input(\"Enter a sentence: \")\n",
    "words = s.split()\n",
    "\n",
    "for word in words:\n",
    "    count = 0\n",
    "    for char in word:\n",
    "        if char in vowels:\n",
    "            count += 1\n",
    "    print(word ,count)"
   ]
  },
  {
   "cell_type": "markdown",
   "id": "c69c6fa8-fd3b-4ed1-87dd-3fee6a162eac",
   "metadata": {},
   "source": [
    "## Q34.\tAccept a tuple and convert it into a list. \n"
   ]
  },
  {
   "cell_type": "code",
   "execution_count": 39,
   "id": "34d8dde0-368a-4f7f-a278-d916440336c1",
   "metadata": {},
   "outputs": [
    {
     "name": "stdin",
     "output_type": "stream",
     "text": [
      "Enter elements of tuple separated by commas:  1,2,2,3,4,5\n"
     ]
    },
    {
     "name": "stdout",
     "output_type": "stream",
     "text": [
      "Tuple: ('1', '2', '2', '3', '4', '5')\n",
      "List: ['1', '2', '2', '3', '4', '5']\n"
     ]
    }
   ],
   "source": [
    "t = tuple(input(\"Enter elements of tuple separated by commas: \").split(','))\n",
    "\n",
    "lst = list(t)\n",
    "\n",
    "print(\"Tuple:\", t)\n",
    "print(\"List:\", lst)"
   ]
  },
  {
   "cell_type": "markdown",
   "id": "1c3382b6-0be2-450c-8353-1af4ecd849ae",
   "metadata": {},
   "source": [
    "## Q35.\tRemove all whitespace from a given string using a function. \n"
   ]
  },
  {
   "cell_type": "code",
   "execution_count": 43,
   "id": "6443d9c0-b2f0-42a9-bb74-d4c0febda38b",
   "metadata": {},
   "outputs": [
    {
     "name": "stdin",
     "output_type": "stream",
     "text": [
      "Enter a string:  tuye4 k[ps l'l ryr \n"
     ]
    },
    {
     "name": "stdout",
     "output_type": "stream",
     "text": [
      "tuye4k[psl'lryr\n"
     ]
    }
   ],
   "source": [
    "def result(s):\n",
    "    return ''.join(s.split())\n",
    "\n",
    "\n",
    "s = input(\"Enter a string: \")\n",
    "print(result(s))\n",
    "\n"
   ]
  },
  {
   "cell_type": "markdown",
   "id": "85421662-efa0-47d3-a113-7ec29923879a",
   "metadata": {},
   "source": [
    "## Q36.\tMerge two lists into a dictionary using one as keys and the other as values. "
   ]
  },
  {
   "cell_type": "code",
   "execution_count": 44,
   "id": "1676c1c5-c978-4081-8fd4-9d581a4eb0de",
   "metadata": {},
   "outputs": [
    {
     "name": "stdout",
     "output_type": "stream",
     "text": [
      "{'a': 1, 'b': 2, 'c': 3}\n"
     ]
    }
   ],
   "source": [
    "keys = ['a', 'b', 'c']\n",
    "values = [1, 2, 3]\n",
    "\n",
    "\n",
    "result = dict(zip(keys, values))\n",
    "\n",
    "print(result)"
   ]
  },
  {
   "cell_type": "markdown",
   "id": "2ebb5846-2b26-44da-8c9f-73fa86f315fb",
   "metadata": {},
   "source": [
    "## Q37.\tWrite a program to get the key with the maximum value in a dictionary. "
   ]
  },
  {
   "cell_type": "code",
   "execution_count": 45,
   "id": "ff91ea85-c1e3-404b-bc5d-d52f9d8848bc",
   "metadata": {},
   "outputs": [
    {
     "name": "stdout",
     "output_type": "stream",
     "text": [
      "Key with maximum value: b\n"
     ]
    }
   ],
   "source": [
    "d = {'a': 10, 'b': 25, 'c': 15}\n",
    "max_key = max(d, key=d.get)\n",
    "print(\"Key with maximum value:\", max_key)"
   ]
  },
  {
   "cell_type": "markdown",
   "id": "ce81cacf-81fa-4f6a-94da-acbe46d166ef",
   "metadata": {},
   "source": [
    "## Q38.\tAccept a string and print a dictionary with word frequencies. "
   ]
  },
  {
   "cell_type": "code",
   "execution_count": 47,
   "id": "fa766b19-1faf-4ea3-a38c-6800dbb2ed6b",
   "metadata": {},
   "outputs": [
    {
     "name": "stdin",
     "output_type": "stream",
     "text": [
      "Enter a string:  7f 32ihdiu 23e73 i2hwi 23 ih\n"
     ]
    },
    {
     "name": "stdout",
     "output_type": "stream",
     "text": [
      "{'7f': 1, '32ihdiu': 1, '23e73': 1, 'i2hwi': 1, '23': 1, 'ih': 1}\n"
     ]
    }
   ],
   "source": [
    "s = input(\"Enter a string: \")\n",
    "words = s.split()  \n",
    "freq = {}\n",
    "for word in words:\n",
    "    freq[word] = freq.get(word, 0) + 1\n",
    "\n",
    "print(freq)"
   ]
  },
  {
   "cell_type": "markdown",
   "id": "dbc12041-54f3-44b6-b393-26ef32483e40",
   "metadata": {},
   "source": [
    "## Q39.\tWrite a program to check if a key exists in a dictionary. "
   ]
  },
  {
   "cell_type": "code",
   "execution_count": 49,
   "id": "0176ae95-fe95-4229-b1da-ab7d05b29c13",
   "metadata": {},
   "outputs": [
    {
     "name": "stdin",
     "output_type": "stream",
     "text": [
      " name\n"
     ]
    },
    {
     "name": "stdout",
     "output_type": "stream",
     "text": [
      "name is in d\n"
     ]
    }
   ],
   "source": [
    "d = {'name': 'Alice', 'age': 25, 'city': 'New York'}\n",
    "\n",
    "kcheck = input()\n",
    "\n",
    "if kcheck in d:\n",
    "    print(kcheck,\"is in d\")\n",
    "else:\n",
    "    print(kcheck,\"is not in d\")"
   ]
  },
  {
   "cell_type": "markdown",
   "id": "d598e40b-cbb9-4b5f-8a19-5ec06c9f272c",
   "metadata": {},
   "source": [
    "## Q40.\tWrite a program to replace all the vowels in a string with '*'\n"
   ]
  },
  {
   "cell_type": "code",
   "execution_count": 50,
   "id": "77870f0d-f165-49b2-9b29-8cb611370861",
   "metadata": {},
   "outputs": [
    {
     "name": "stdin",
     "output_type": "stream",
     "text": [
      "Enter a string:  kuahf egrf\n"
     ]
    },
    {
     "name": "stdout",
     "output_type": "stream",
     "text": [
      "k**hf *grf\n"
     ]
    }
   ],
   "source": [
    "s = input(\"Enter a string: \")\n",
    "vowels = \"aeiouAEIOU\"\n",
    "result = ''\n",
    "for char in s:\n",
    "    if char in vowels:\n",
    "        result += '*'\n",
    "    else:\n",
    "        result += char\n",
    "\n",
    "print(result)"
   ]
  },
  {
   "cell_type": "markdown",
   "id": "9851f790-c8ca-44e0-a44d-5f30c63a15cd",
   "metadata": {},
   "source": [
    "## Q41.\ta Python program to read the contents of a file and display it. "
   ]
  },
  {
   "cell_type": "code",
   "execution_count": 52,
   "id": "50a4051f-d7ba-4ccb-9ec9-c91c4fa4ce49",
   "metadata": {},
   "outputs": [
    {
     "name": "stdin",
     "output_type": "stream",
     "text": [
      "Enter filename:  h\n"
     ]
    },
    {
     "name": "stdout",
     "output_type": "stream",
     "text": [
      "Oops! The file does not exist.\n"
     ]
    }
   ],
   "source": [
    "filename = input(\"Enter filename: \")\n",
    "\n",
    "try:\n",
    "    with open(filename, 'r') as file:\n",
    "        contents = file.read()\n",
    "        print(contents)\n",
    "except FileNotFoundError:\n",
    "    print(\"Oops! The file does not exist.\")\n",
    "except Exception as e:\n",
    "    print(\"Something went wrong:\", e)"
   ]
  },
  {
   "cell_type": "markdown",
   "id": "c3c87495-236a-493d-bc47-ca16591f69fb",
   "metadata": {},
   "source": [
    "## Q42.\tCount the number of words in a file. "
   ]
  },
  {
   "cell_type": "code",
   "execution_count": 53,
   "id": "95c2ada7-0bf7-4d41-80c0-f537791bd0c8",
   "metadata": {},
   "outputs": [
    {
     "name": "stdin",
     "output_type": "stream",
     "text": [
      "Enter filename:  kuhav\n"
     ]
    },
    {
     "name": "stdout",
     "output_type": "stream",
     "text": [
      "File not found!\n"
     ]
    }
   ],
   "source": [
    "filename = input(\"Enter filename: \")\n",
    "\n",
    "try:\n",
    "    with open(filename, 'r') as file:\n",
    "        contents = file.read()\n",
    "        words = contents.split()\n",
    "        print(\"Number of words in the file:\", len(words))\n",
    "except FileNotFoundError:\n",
    "    print(\"File not found!\")\n",
    "except Exception as e:\n",
    "    print(\"An error occurred:\", e)"
   ]
  },
  {
   "cell_type": "markdown",
   "id": "7859ab54-f137-44da-a214-50d61064aa2a",
   "metadata": {},
   "source": [
    "## Q43.\tCopy contents of one file to another. "
   ]
  },
  {
   "cell_type": "code",
   "execution_count": 54,
   "id": "7c74ef20-c05c-4a34-a9d3-f18d93e91957",
   "metadata": {},
   "outputs": [
    {
     "name": "stdin",
     "output_type": "stream",
     "text": [
      "Enter the source filename:  ghoerig\n",
      "Enter the destination filename:  dihvd\n"
     ]
    },
    {
     "name": "stdout",
     "output_type": "stream",
     "text": [
      "Error: The file 'ghoerig' does not exist.\n"
     ]
    }
   ],
   "source": [
    "source_file = input(\"Enter the source filename: \")\n",
    "destination_file = input(\"Enter the destination filename: \")\n",
    "\n",
    "try:\n",
    "    with open(source_file, 'r') as src:\n",
    "        content = src.read()\n",
    "\n",
    "    with open(destination_file, 'w') as dest:\n",
    "        dest.write(content)\n",
    "\n",
    "    print(f\"Contents copied from '{source_file}' to '{destination_file}'.\")\n",
    "except FileNotFoundError:\n",
    "    print(f\"Error: The file '{source_file}' does not exist.\")\n",
    "except Exception as e:\n",
    "    print(f\"An error occurred: {e}\")\n"
   ]
  },
  {
   "cell_type": "markdown",
   "id": "2b0796da-adf0-44e6-a9a5-eccda66d4304",
   "metadata": {},
   "source": [
    "## Q44.\tPrint only the lines that have more than 50 characters from a text file. \n"
   ]
  },
  {
   "cell_type": "code",
   "execution_count": 55,
   "id": "2220e86b-9f65-4b24-85f5-2803fb1c70bd",
   "metadata": {},
   "outputs": [
    {
     "name": "stdin",
     "output_type": "stream",
     "text": [
      "Enter filename:  7iy3t4\n"
     ]
    },
    {
     "name": "stdout",
     "output_type": "stream",
     "text": [
      "File not found!\n"
     ]
    }
   ],
   "source": [
    "filename = input(\"Enter filename: \")\n",
    "\n",
    "try:\n",
    "    with open(filename, 'r') as file:\n",
    "        for line in file:\n",
    "            if len(line.strip()) > 50: \n",
    "                print(line, end='')      \n",
    "except FileNotFoundError:\n",
    "    print(\"File not found!\")\n",
    "except Exception as e:\n",
    "    print(\"An error occurred:\", e)\n"
   ]
  },
  {
   "cell_type": "markdown",
   "id": "772eff1e-8fca-4adc-9f82-8e3e5c9796b0",
   "metadata": {},
   "source": [
    "## Q45.\tWrite a program to write a list of strings into a text file (one string per line). "
   ]
  },
  {
   "cell_type": "code",
   "execution_count": 56,
   "id": "4da491f9-164d-4e45-88ea-4b8468ac1fa5",
   "metadata": {},
   "outputs": [
    {
     "name": "stdin",
     "output_type": "stream",
     "text": [
      "Enter filename to write to:  8i5t\n"
     ]
    },
    {
     "name": "stdout",
     "output_type": "stream",
     "text": [
      "List written to 8i5t successfully.\n"
     ]
    }
   ],
   "source": [
    "\n",
    "strings = [\"Hello\", \"World\", \"This is ChatGPT\", \"Python is fun\"]\n",
    "\n",
    "filename = input(\"Enter filename to write to: \")\n",
    "\n",
    "with open(filename, 'w') as file:\n",
    "    for s in strings:\n",
    "        file.write(s + '\\n')\n",
    "\n",
    "print(f\"List written to {filename} successfully.\")\n"
   ]
  },
  {
   "cell_type": "markdown",
   "id": "09f536a1-bf21-4d6a-8f7e-2149950c23ee",
   "metadata": {},
   "source": [
    "## Q46.\ta program to take two numbers as input and handle division by zero. \n"
   ]
  },
  {
   "cell_type": "code",
   "execution_count": 57,
   "id": "6289ca04-9071-4ad4-b2eb-5c3c0430919e",
   "metadata": {},
   "outputs": [
    {
     "name": "stdin",
     "output_type": "stream",
     "text": [
      "Enter numerator:  2\n",
      "Enter denominator:  0\n"
     ]
    },
    {
     "name": "stdout",
     "output_type": "stream",
     "text": [
      "Error: Division by zero is not allowed.\n"
     ]
    }
   ],
   "source": [
    "try:\n",
    "    num1 = float(input(\"Enter numerator: \"))\n",
    "    num2 = float(input(\"Enter denominator: \"))\n",
    "    \n",
    "    result = num1 / num2\n",
    "    print(\"Result:\", result)\n",
    "except ZeroDivisionError:\n",
    "    print(\"Error: Division by zero is not allowed.\")\n",
    "except ValueError:\n",
    "    print(\"Error: Please enter valid numbers.\")\n"
   ]
  },
  {
   "cell_type": "markdown",
   "id": "36a1616f-9383-4493-a149-26239c207396",
   "metadata": {},
   "source": [
    "## Q47.\tHandle invalid user input (e.g., entering a string when a number is expected). "
   ]
  },
  {
   "cell_type": "code",
   "execution_count": 58,
   "id": "d9a0f55f-602c-4de2-add2-debe560839e3",
   "metadata": {},
   "outputs": [
    {
     "name": "stdin",
     "output_type": "stream",
     "text": [
      "Enter a number:  ijs\n"
     ]
    },
    {
     "name": "stdout",
     "output_type": "stream",
     "text": [
      "Invalid input! Please enter a valid number.\n"
     ]
    },
    {
     "name": "stdin",
     "output_type": "stream",
     "text": [
      "Enter a number:  kvd\n"
     ]
    },
    {
     "name": "stdout",
     "output_type": "stream",
     "text": [
      "Invalid input! Please enter a valid number.\n"
     ]
    },
    {
     "name": "stdin",
     "output_type": "stream",
     "text": [
      "Enter a number:  8\n"
     ]
    },
    {
     "name": "stdout",
     "output_type": "stream",
     "text": [
      "You entered: 8.0\n"
     ]
    }
   ],
   "source": [
    "while True:\n",
    "    try:\n",
    "        num = float(input(\"Enter a number: \"))\n",
    "        break  \n",
    "    except ValueError:\n",
    "        print(\"Invalid input! Please enter a valid number.\")\n",
    "\n",
    "print(\"You entered:\", num)\n"
   ]
  },
  {
   "cell_type": "markdown",
   "id": "c9b65705-5a3d-4a6e-84ab-9c765d0fd953",
   "metadata": {},
   "source": [
    "## Q48.\tTry to open a file that doesn’t exist and handle the FileNotFoundError. "
   ]
  },
  {
   "cell_type": "code",
   "execution_count": 59,
   "id": "ef6eca4f-7d8d-4f67-aa70-5b1a7fe1f719",
   "metadata": {},
   "outputs": [
    {
     "name": "stdin",
     "output_type": "stream",
     "text": [
      "Enter filename to open:  kjbge\n"
     ]
    },
    {
     "name": "stdout",
     "output_type": "stream",
     "text": [
      "Error: The file 'kjbge' does not exist.\n"
     ]
    }
   ],
   "source": [
    "filename = input(\"Enter filename to open: \")\n",
    "\n",
    "try:\n",
    "    with open(filename, 'r') as file:\n",
    "        content = file.read()\n",
    "        print(\"File contents:\")\n",
    "        print(content)\n",
    "except FileNotFoundError:\n",
    "    print(f\"Error: The file '{filename}' does not exist.\")\n"
   ]
  },
  {
   "cell_type": "markdown",
   "id": "73d40aa0-40ca-4bab-8fc8-80789287e94b",
   "metadata": {},
   "source": [
    "## Q49.\tCreate a list of numbers and try accessing an invalid index. Handle the exception gracefully. "
   ]
  },
  {
   "cell_type": "code",
   "execution_count": 60,
   "id": "d35c0120-4d42-4e9c-a535-044b5b9714a5",
   "metadata": {},
   "outputs": [
    {
     "name": "stdin",
     "output_type": "stream",
     "text": [
      "Enter index to access:  5\n"
     ]
    },
    {
     "name": "stdout",
     "output_type": "stream",
     "text": [
      "Error: Index out of range!\n"
     ]
    }
   ],
   "source": [
    "numbers = [10, 20, 30, 40, 50]\n",
    "\n",
    "index = int(input(\"Enter index to access: \"))\n",
    "\n",
    "try:\n",
    "    print(f\"Element at index {index} is {numbers[index]}\")\n",
    "except IndexError:\n",
    "    print(\"Error: Index out of range!\")\n",
    "except ValueError:\n",
    "    print(\"Error: Please enter a valid integer index.\")\n"
   ]
  },
  {
   "cell_type": "markdown",
   "id": "d432a9a3-9ead-4ebe-88d5-ffc6cbd1a9f9",
   "metadata": {},
   "source": [
    "## Q50.\tUse a try-except-finally block to demonstrate the execution of the finally clause. "
   ]
  },
  {
   "cell_type": "code",
   "execution_count": 61,
   "id": "410b90a6-bb52-4f4a-bcfd-42527392703b",
   "metadata": {},
   "outputs": [
    {
     "name": "stdin",
     "output_type": "stream",
     "text": [
      "Enter a number:  0\n"
     ]
    },
    {
     "name": "stdout",
     "output_type": "stream",
     "text": [
      "Error: Cannot divide by zero!\n",
      "This finally block always executes.\n"
     ]
    }
   ],
   "source": [
    "try:\n",
    "    num = int(input(\"Enter a number: \"))\n",
    "    result = 10 / num\n",
    "    print(\"Result is:\", result)\n",
    "except ZeroDivisionError:\n",
    "    print(\"Error: Cannot divide by zero!\")\n",
    "except ValueError:\n",
    "    print(\"Error: Please enter a valid integer.\")\n",
    "finally:\n",
    "    print(\"This finally block always executes.\")\n"
   ]
  },
  {
   "cell_type": "code",
   "execution_count": null,
   "id": "ea186fed-6b0b-4a19-9516-61ea0eceb7d1",
   "metadata": {},
   "outputs": [],
   "source": []
  }
 ],
 "metadata": {
  "kernelspec": {
   "display_name": "Python [conda env:base] *",
   "language": "python",
   "name": "conda-base-py"
  },
  "language_info": {
   "codemirror_mode": {
    "name": "ipython",
    "version": 3
   },
   "file_extension": ".py",
   "mimetype": "text/x-python",
   "name": "python",
   "nbconvert_exporter": "python",
   "pygments_lexer": "ipython3",
   "version": "3.12.7"
  }
 },
 "nbformat": 4,
 "nbformat_minor": 5
}
